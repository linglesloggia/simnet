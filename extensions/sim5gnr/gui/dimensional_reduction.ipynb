{
 "cells": [
  {
   "cell_type": "code",
   "execution_count": 5,
   "metadata": {},
   "outputs": [
    {
     "name": "stdout",
     "output_type": "stream",
     "text": [
      "     UserEq UE-1, v_pos=[0 0 0], v_vel=[0 0 0]\n",
      "     TrafficGenerator simple TG-1, gen size 200, delay 2, pkts 1\n",
      "     UserEq UE-2, v_pos=[0 0 0], v_vel=[0 0 0]\n",
      "     TrafficGenerator simple TG-2, gen size 200, delay 2, pkts 1\n",
      "     UserEq UE-3, v_pos=[0 0 0], v_vel=[0 0 0]\n",
      "     TrafficGenerator simple TG-3, gen size 200, delay 2, pkts 1\n",
      "     UserEq UE-4, v_pos=[0 0 0], v_vel=[0 0 0]\n",
      "     TrafficGenerator simple TG-4, gen size 300, delay 1, pkts 1\n",
      "     UserEq UE-5, v_pos=[0 0 0], v_vel=[0 0 0]\n",
      "     TrafficGenerator simple TG-5, gen size 300, delay 1, pkts 1\n",
      "     UserEq UE-6, v_pos=[0 0 0], v_vel=[0 0 0]\n",
      "     TrafficGenerator simple TG-6, gen size 300, delay 1, pkts 1\n",
      "     UserEq UE-7, v_pos=[0 0 0], v_vel=[0 0 0]\n",
      "     TrafficGenerator simple TG-7, gen size 100, delay 5, pkts 1\n",
      "     UserEq UE-8, v_pos=[0 0 0], v_vel=[0 0 0]\n",
      "     TrafficGenerator simple TG-8, gen size 100, delay 5, pkts 1\n",
      "     UserEq UE-9, v_pos=[0 0 0], v_vel=[0 0 0]\n",
      "     TrafficGenerator simple TG-9, gen size 100, delay 5, pkts 1\n",
      "     UserEq UE-10, v_pos=[0 0 0], v_vel=[0 0 0]\n",
      "     TrafficGenerator simple TG-10, gen size 100, delay 5, pkts 1\n",
      "\n"
     ]
    }
   ],
   "source": [
    "import sys\n",
    "from AppCmd import *\n",
    "sys.path.append('/home/lingles/ownCloud/Summer_school/simnet')\n",
    "\n",
    "pywisim(['--set-basestation', 'SU', '1', 'n258', 'BS-1', 'False', 'False', 'False', 'True', '5', 'ground_base_learn', \"DQN_channel030001\", 'Random'])\n",
    "pywisim(['--set-uegroup', '0', 'UG-1', '60', '200', '2', 'DQN_trfgen030001', '3'])\n",
    "pywisim(['--set-uegroup', '1', 'UG-2', '60', '300', '1', 'DQN_trfgen020001', '3'])\n",
    "pywisim(['--set-uegroup', '2', 'UG-2', '60', '100', '5', 'DQN_trfgen010001', '4'])\n",
    "pywisim(['--set-resources', '0', 'PRB', 'PRB', '5', '0', '14'])\n",
    "\n",
    "pywisim(['--run-simulation', 'True'])"
   ]
  },
  {
   "cell_type": "code",
   "execution_count": 4,
   "metadata": {},
   "outputs": [
    {
     "name": "stdout",
     "output_type": "stream",
     "text": [
      "     UserEq UE-1, v_pos=[0 0 0], v_vel=[0 0 0]\n",
      "     TrafficGenerator simple TG-1, gen size 200, delay 2, pkts 1\n",
      "     UserEq UE-2, v_pos=[0 0 0], v_vel=[0 0 0]\n",
      "     TrafficGenerator simple TG-2, gen size 200, delay 2, pkts 1\n",
      "     UserEq UE-3, v_pos=[0 0 0], v_vel=[0 0 0]\n",
      "     TrafficGenerator simple TG-3, gen size 200, delay 2, pkts 1\n",
      "     UserEq UE-4, v_pos=[0 0 0], v_vel=[0 0 0]\n",
      "     TrafficGenerator simple TG-4, gen size 300, delay 1, pkts 1\n",
      "     UserEq UE-5, v_pos=[0 0 0], v_vel=[0 0 0]\n",
      "     TrafficGenerator simple TG-5, gen size 300, delay 1, pkts 1\n",
      "     UserEq UE-6, v_pos=[0 0 0], v_vel=[0 0 0]\n",
      "     TrafficGenerator simple TG-6, gen size 300, delay 1, pkts 1\n",
      "     UserEq UE-7, v_pos=[0 0 0], v_vel=[0 0 0]\n",
      "     TrafficGenerator simple TG-7, gen size 100, delay 5, pkts 1\n",
      "     UserEq UE-8, v_pos=[0 0 0], v_vel=[0 0 0]\n",
      "     TrafficGenerator simple TG-8, gen size 100, delay 5, pkts 1\n",
      "     UserEq UE-9, v_pos=[0 0 0], v_vel=[0 0 0]\n",
      "     TrafficGenerator simple TG-9, gen size 100, delay 5, pkts 1\n",
      "     UserEq UE-10, v_pos=[0 0 0], v_vel=[0 0 0]\n",
      "     TrafficGenerator simple TG-10, gen size 100, delay 5, pkts 1\n",
      "\n"
     ]
    }
   ],
   "source": [
    "import sys\n",
    "from AppCmd import *\n",
    "sys.path.append('/home/lingles/ownCloud/Summer_school/simnet')\n",
    "\n",
    "pywisim(['--set-basestation', 'SU', '1', 'n258', 'BS-1', 'False', 'False', 'False', 'True', '3', 'ground_base', \"DQN_channel030001\", 'Random'])\n",
    "pywisim(['--set-uegroup', '0', 'UG-1', '60', '200', '2', 'DQN_trfgen030001', '3'])\n",
    "pywisim(['--set-uegroup', '1', 'UG-2', '60', '300', '1', 'DQN_trfgen020001', '3'])\n",
    "pywisim(['--set-uegroup', '2', 'UG-2', '60', '100', '5', 'DQN_trfgen010001', '4'])\n",
    "pywisim(['--set-resources', '0', 'PRB', 'PRB', '5', '0', '14'])\n",
    "\n",
    "pywisim(['--run-simulation', 'True'])"
   ]
  },
  {
   "cell_type": "code",
   "execution_count": 3,
   "metadata": {},
   "outputs": [
    {
     "name": "stdout",
     "output_type": "stream",
     "text": [
      "     UserEq UE-1, v_pos=[0 0 0], v_vel=[0 0 0]\n",
      "     TrafficGenerator simple TG-1, gen size 200, delay 1, pkts 1\n",
      "     UserEq UE-2, v_pos=[0 0 0], v_vel=[0 0 0]\n",
      "     TrafficGenerator simple TG-2, gen size 200, delay 1, pkts 1\n",
      "     UserEq UE-3, v_pos=[0 0 0], v_vel=[0 0 0]\n",
      "     TrafficGenerator simple TG-3, gen size 300, delay 1, pkts 1\n",
      "     UserEq UE-4, v_pos=[0 0 0], v_vel=[0 0 0]\n",
      "     TrafficGenerator simple TG-4, gen size 300, delay 1, pkts 1\n",
      "\n"
     ]
    }
   ],
   "source": [
    "pywisim(['--view-config'])"
   ]
  },
  {
   "cell_type": "code",
   "execution_count": null,
   "metadata": {},
   "outputs": [],
   "source": [
    "def load_model(model_path):\n",
    "    '''Loads the saved model from a file.'''\n",
    "    checkpoint = torch.load(model_path)\n",
    "    state_size = checkpoint['state_size']\n",
    "    action_size = checkpoint['action_size']\n",
    "    \n",
    "    # Initialize the model and load the state_dict\n",
    "    model = QNetwork(self.state_size, self.action_size)\n",
    "    model.load_state_dict(checkpoint['model_state_dict'])\n",
    "    model.eval()  # Set model to evaluation mode (no gradient updates)"
   ]
  },
  {
   "cell_type": "code",
   "execution_count": 1,
   "metadata": {},
   "outputs": [
    {
     "name": "stdout",
     "output_type": "stream",
     "text": [
      "[(0, 0, 5), (0, 1, 4), (0, 2, 3), (0, 3, 2), (0, 4, 1), (0, 5, 0), (1, 0, 4), (1, 1, 3), (1, 2, 2), (1, 3, 1), (1, 4, 0), (2, 0, 3), (2, 1, 2), (2, 2, 1), (2, 3, 0), (3, 0, 2), (3, 1, 1), (3, 2, 0), (4, 0, 1), (4, 1, 0), (5, 0, 0)]\n"
     ]
    }
   ],
   "source": [
    "from itertools import product\n",
    "\n",
    "def generate_actions(num_users, total_resources):\n",
    "    actions = []\n",
    "    for c in product(range(total_resources + 1), repeat=num_users):\n",
    "        if sum(c) == total_resources:\n",
    "            actions.append(c)\n",
    "    return actions\n",
    "\n",
    "print(generate_actions(3, 5))"
   ]
  },
  {
   "cell_type": "code",
   "execution_count": null,
   "metadata": {},
   "outputs": [],
   "source": []
  }
 ],
 "metadata": {
  "kernelspec": {
   "display_name": "ctf",
   "language": "python",
   "name": "python3"
  },
  "language_info": {
   "codemirror_mode": {
    "name": "ipython",
    "version": 3
   },
   "file_extension": ".py",
   "mimetype": "text/x-python",
   "name": "python",
   "nbconvert_exporter": "python",
   "pygments_lexer": "ipython3",
   "version": "3.11.4"
  }
 },
 "nbformat": 4,
 "nbformat_minor": 2
}
