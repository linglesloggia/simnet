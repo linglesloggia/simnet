{
 "cells": [
  {
   "cell_type": "code",
   "execution_count": 8,
   "metadata": {},
   "outputs": [
    {
     "name": "stdout",
     "output_type": "stream",
     "text": [
      "     UserEq UE-1, v_pos=[0 0 0], v_vel=[0 0 0]\n",
      "     TrafficGenerator simple TG-1, gen size 200, delay 2, pkts 1\n",
      "     UserEq UE-2, v_pos=[0 0 0], v_vel=[0 0 0]\n",
      "     TrafficGenerator simple TG-2, gen size 200, delay 2, pkts 1\n",
      "     UserEq UE-3, v_pos=[0 0 0], v_vel=[0 0 0]\n",
      "     TrafficGenerator simple TG-3, gen size 200, delay 2, pkts 1\n",
      "     UserEq UE-4, v_pos=[0 0 0], v_vel=[0 0 0]\n",
      "     TrafficGenerator simple TG-4, gen size 300, delay 1, pkts 1\n",
      "     UserEq UE-5, v_pos=[0 0 0], v_vel=[0 0 0]\n",
      "     TrafficGenerator simple TG-5, gen size 300, delay 1, pkts 1\n",
      "     UserEq UE-6, v_pos=[0 0 0], v_vel=[0 0 0]\n",
      "     TrafficGenerator simple TG-6, gen size 300, delay 1, pkts 1\n",
      "     UserEq UE-7, v_pos=[0 0 0], v_vel=[0 0 0]\n",
      "     TrafficGenerator simple TG-7, gen size 100, delay 5, pkts 1\n",
      "     UserEq UE-8, v_pos=[0 0 0], v_vel=[0 0 0]\n",
      "     TrafficGenerator simple TG-8, gen size 100, delay 5, pkts 1\n",
      "     UserEq UE-9, v_pos=[0 0 0], v_vel=[0 0 0]\n",
      "     TrafficGenerator simple TG-9, gen size 100, delay 5, pkts 1\n",
      "     UserEq UE-10, v_pos=[0 0 0], v_vel=[0 0 0]\n",
      "     TrafficGenerator simple TG-10, gen size 100, delay 5, pkts 1\n",
      "\n"
     ]
    }
   ],
   "source": [
    "import sys\n",
    "from AppCmd import *\n",
    "sys.path.append('/home/lingles/ownCloud/Summer_school/simnet')\n",
    "\n",
    "pywisim(['--set-basestation', 'SU', '1', 'n258', 'BS-1', 'False', 'False', 'False', 'True', '20', 'ground_base_learn', \"random or fixed\", 'Random'])\n",
    "pywisim(['--set-uegroup', '0', 'UG-1', '60', '200', '2', 'fixed', '3'])\n",
    "pywisim(['--set-uegroup', '1', 'UG-2', '60', '300', '1', 'fixed', '3'])\n",
    "pywisim(['--set-uegroup', '2', 'UG-2', '60', '100', '5', 'fixed', '4'])\n",
    "pywisim(['--set-resources', '0', 'PRB', 'PRB', '5', '0', '14'])\n",
    "\n",
    "pywisim(['--run-simulation', 'True'])"
   ]
  },
  {
   "cell_type": "code",
   "execution_count": 5,
   "metadata": {},
   "outputs": [
    {
     "name": "stdout",
     "output_type": "stream",
     "text": [
      "     UserEq UE-1, v_pos=[0 0 0], v_vel=[0 0 0]\n",
      "     TrafficGenerator simple TG-1, gen size 200, delay 2, pkts 1\n",
      "     UserEq UE-2, v_pos=[0 0 0], v_vel=[0 0 0]\n",
      "     TrafficGenerator simple TG-2, gen size 200, delay 2, pkts 1\n",
      "     UserEq UE-3, v_pos=[0 0 0], v_vel=[0 0 0]\n",
      "     TrafficGenerator simple TG-3, gen size 200, delay 2, pkts 1\n",
      "     UserEq UE-4, v_pos=[0 0 0], v_vel=[0 0 0]\n",
      "     TrafficGenerator simple TG-4, gen size 300, delay 1, pkts 1\n",
      "     UserEq UE-5, v_pos=[0 0 0], v_vel=[0 0 0]\n",
      "     TrafficGenerator simple TG-5, gen size 300, delay 1, pkts 1\n",
      "     UserEq UE-6, v_pos=[0 0 0], v_vel=[0 0 0]\n",
      "     TrafficGenerator simple TG-6, gen size 300, delay 1, pkts 1\n",
      "     UserEq UE-7, v_pos=[0 0 0], v_vel=[0 0 0]\n",
      "     TrafficGenerator simple TG-7, gen size 100, delay 5, pkts 1\n",
      "     UserEq UE-8, v_pos=[0 0 0], v_vel=[0 0 0]\n",
      "     TrafficGenerator simple TG-8, gen size 100, delay 5, pkts 1\n",
      "     UserEq UE-9, v_pos=[0 0 0], v_vel=[0 0 0]\n",
      "     TrafficGenerator simple TG-9, gen size 100, delay 5, pkts 1\n",
      "     UserEq UE-10, v_pos=[0 0 0], v_vel=[0 0 0]\n",
      "     TrafficGenerator simple TG-10, gen size 100, delay 5, pkts 1\n",
      "\n"
     ]
    }
   ],
   "source": [
    "import sys\n",
    "from AppCmd import *\n",
    "sys.path.append('/home/lingles/ownCloud/Summer_school/simnet')\n",
    "\n",
    "pywisim(['--set-basestation', 'SU', '1', 'n258', 'BS-1', 'False', 'False', 'False', 'True', '15', 'ground_base', \"random or fixed\", 'Random'])\n",
    "pywisim(['--set-uegroup', '0', 'UG-1', '60', '200', '2', 'fixed', '3'])\n",
    "pywisim(['--set-uegroup', '1', 'UG-2', '60', '300', '1', 'fixed', '3'])\n",
    "pywisim(['--set-uegroup', '2', 'UG-2', '60', '100', '5', 'fixed', '4'])\n",
    "pywisim(['--set-resources', '0', 'PRB', 'PRB', '5', '0', '14'])\n",
    "\n",
    "pywisim(['--run-simulation', 'True'])"
   ]
  },
  {
   "cell_type": "code",
   "execution_count": 3,
   "metadata": {},
   "outputs": [
    {
     "name": "stdout",
     "output_type": "stream",
     "text": [
      "     UserEq UE-1, v_pos=[0 0 0], v_vel=[0 0 0]\n",
      "     TrafficGenerator simple TG-1, gen size 200, delay 1, pkts 1\n",
      "     UserEq UE-2, v_pos=[0 0 0], v_vel=[0 0 0]\n",
      "     TrafficGenerator simple TG-2, gen size 200, delay 1, pkts 1\n",
      "     UserEq UE-3, v_pos=[0 0 0], v_vel=[0 0 0]\n",
      "     TrafficGenerator simple TG-3, gen size 300, delay 1, pkts 1\n",
      "     UserEq UE-4, v_pos=[0 0 0], v_vel=[0 0 0]\n",
      "     TrafficGenerator simple TG-4, gen size 300, delay 1, pkts 1\n",
      "\n"
     ]
    }
   ],
   "source": [
    "pywisim(['--view-config'])"
   ]
  },
  {
   "cell_type": "code",
   "execution_count": null,
   "metadata": {},
   "outputs": [],
   "source": [
    "def load_model(model_path):\n",
    "    '''Loads the saved model from a file.'''\n",
    "    checkpoint = torch.load(model_path)\n",
    "    state_size = checkpoint['state_size']\n",
    "    action_size = checkpoint['action_size']\n",
    "    \n",
    "    # Initialize the model and load the state_dict\n",
    "    model = QNetwork(self.state_size, self.action_size)\n",
    "    model.load_state_dict(checkpoint['model_state_dict'])\n",
    "    model.eval()  # Set model to evaluation mode (no gradient updates)"
   ]
  }
 ],
 "metadata": {
  "kernelspec": {
   "display_name": "ctf",
   "language": "python",
   "name": "python3"
  },
  "language_info": {
   "codemirror_mode": {
    "name": "ipython",
    "version": 3
   },
   "file_extension": ".py",
   "mimetype": "text/x-python",
   "name": "python",
   "nbconvert_exporter": "python",
   "pygments_lexer": "ipython3",
   "version": "3.11.4"
  }
 },
 "nbformat": 4,
 "nbformat_minor": 2
}
