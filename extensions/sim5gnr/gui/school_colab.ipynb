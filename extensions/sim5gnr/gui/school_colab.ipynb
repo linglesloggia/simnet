{
 "cells": [
  {
   "cell_type": "code",
   "execution_count": 1,
   "metadata": {},
   "outputs": [],
   "source": [
    "from AppCmd import *"
   ]
  },
  {
   "cell_type": "code",
   "execution_count": 2,
   "metadata": {},
   "outputs": [],
   "source": [
    "import sys\n",
    "sys.path.append('/home/lingles/ownCloud/Summer_school/simnet')\n",
    "\n",
    "#from libsimnet.simulator import Simulation\n",
    "\n",
    "pywisim(['--set-basestation', 'SU', '1', 'n258', 'BS-1', 'False', 'False', 'False', 'True', '5', 'drlearn', \"random or fixed\", 'Random'])\n",
    "\n",
    "pywisim(['--set-uegroup', '0', 'UG-1', '60', '200', '1', 'fixed', '2'])\n",
    "\n",
    "pywisim(['--set-uegroup', '1', 'UG-2', '60', '300', '1', 'fixed', '2'])\n",
    "\n",
    "pywisim(['--set-resources', '0', 'PRB', 'PRB', '10', '0', '14'])"
   ]
  },
  {
   "cell_type": "code",
   "execution_count": 3,
   "metadata": {},
   "outputs": [
    {
     "name": "stdout",
     "output_type": "stream",
     "text": [
      "     UserEq UE-1, v_pos=[0 0 0], v_vel=[0 0 0]\n",
      "     TrafficGenerator simple TG-1, gen size 200, delay 1, pkts 1\n",
      "     UserEq UE-2, v_pos=[0 0 0], v_vel=[0 0 0]\n",
      "     TrafficGenerator simple TG-2, gen size 200, delay 1, pkts 1\n",
      "     UserEq UE-3, v_pos=[0 0 0], v_vel=[0 0 0]\n",
      "     TrafficGenerator simple TG-3, gen size 300, delay 1, pkts 1\n",
      "     UserEq UE-4, v_pos=[0 0 0], v_vel=[0 0 0]\n",
      "     TrafficGenerator simple TG-4, gen size 300, delay 1, pkts 1\n",
      "\n"
     ]
    }
   ],
   "source": [
    "pywisim(['--view-config'])"
   ]
  },
  {
   "cell_type": "code",
   "execution_count": 4,
   "metadata": {},
   "outputs": [
    {
     "name": "stdout",
     "output_type": "stream",
     "text": [
      "     UserEq UE-1, v_pos=[0 0 0], v_vel=[0 0 0]\n",
      "     TrafficGenerator simple TG-1, gen size 200, delay 1, pkts 1\n",
      "     UserEq UE-2, v_pos=[0 0 0], v_vel=[0 0 0]\n",
      "     TrafficGenerator simple TG-2, gen size 200, delay 1, pkts 1\n",
      "     UserEq UE-3, v_pos=[0 0 0], v_vel=[0 0 0]\n",
      "     TrafficGenerator simple TG-3, gen size 300, delay 1, pkts 1\n",
      "     UserEq UE-4, v_pos=[0 0 0], v_vel=[0 0 0]\n",
      "     TrafficGenerator simple TG-4, gen size 300, delay 1, pkts 1\n",
      "\n"
     ]
    }
   ],
   "source": [
    "pywisim(['--run-simulation', 'True'])"
   ]
  },
  {
   "cell_type": "code",
   "execution_count": null,
   "metadata": {},
   "outputs": [],
   "source": []
  }
 ],
 "metadata": {
  "kernelspec": {
   "display_name": "ctf",
   "language": "python",
   "name": "python3"
  },
  "language_info": {
   "codemirror_mode": {
    "name": "ipython",
    "version": 3
   },
   "file_extension": ".py",
   "mimetype": "text/x-python",
   "name": "python",
   "nbconvert_exporter": "python",
   "pygments_lexer": "ipython3",
   "version": "3.11.4"
  }
 },
 "nbformat": 4,
 "nbformat_minor": 2
}
