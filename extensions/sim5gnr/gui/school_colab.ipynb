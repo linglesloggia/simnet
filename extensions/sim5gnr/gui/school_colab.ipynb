{
 "cells": [
  {
   "cell_type": "code",
   "execution_count": 1,
   "metadata": {},
   "outputs": [],
   "source": [
    "from AppCmd import *"
   ]
  },
  {
   "cell_type": "code",
   "execution_count": 8,
   "metadata": {},
   "outputs": [
    {
     "name": "stdout",
     "output_type": "stream",
     "text": [
      "\n"
     ]
    },
    {
     "name": "stderr",
     "output_type": "stream",
     "text": [
      "Traceback (most recent call last):\n",
      "  File \"/home/lingles/ownCloud/Summer_school/simnet/extensions/sim5gnr/gui/mk_simsetup.py\", line 22, in <module>\n",
      "    from libsimnet.simulator import Simulation\n",
      "ModuleNotFoundError: No module named 'libsimnet'\n"
     ]
    }
   ],
   "source": [
    "import sys\n",
    "sys.path.append('/home/lingles/ownCloud/Summer_school/simnet')\n",
    "\n",
    "from libsimnet.simulator import Simulation\n",
    "\n",
    "\n",
    "run_command(['--set-basestation', 'SU', '1', 'n258', 'BS-1', 'False', 'False', 'False', 'True', '100'])\n",
    "\n",
    "# Configurar un grupo de usuarios\n",
    "run_command(['--set-uegroup', '0', 'UG-1', '60', '5'])\n",
    "\n",
    "# Configurar recursos para un slice\n",
    "run_command(['--set-resources', '0', 'PRB', 'PRB', '100', '0', '14'])\n",
    "\n",
    "\n",
    "# Ver la configuración\n",
    "run_command(['--view-config'])"
   ]
  },
  {
   "cell_type": "code",
   "execution_count": 5,
   "metadata": {},
   "outputs": [],
   "source": [
    "import sys\n",
    "sys.path.append('/home/lingles/ownCloud/Summer_school/simnet')\n",
    "\n",
    "from libsimnet.simulator import Simulation"
   ]
  },
  {
   "cell_type": "code",
   "execution_count": null,
   "metadata": {},
   "outputs": [],
   "source": []
  }
 ],
 "metadata": {
  "kernelspec": {
   "display_name": "ctf",
   "language": "python",
   "name": "python3"
  },
  "language_info": {
   "codemirror_mode": {
    "name": "ipython",
    "version": 3
   },
   "file_extension": ".py",
   "mimetype": "text/x-python",
   "name": "python",
   "nbconvert_exporter": "python",
   "pygments_lexer": "ipython3",
   "version": "3.11.4"
  }
 },
 "nbformat": 4,
 "nbformat_minor": 2
}
